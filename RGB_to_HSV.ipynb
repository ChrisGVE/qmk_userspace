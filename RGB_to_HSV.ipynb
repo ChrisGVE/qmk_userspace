{
 "cells": [
  {
   "cell_type": "code",
   "execution_count": 14,
   "id": "03a047db-4ba9-4d99-b13c-da8026b6ba92",
   "metadata": {
    "execution": {
     "iopub.execute_input": "2024-12-30T17:43:39.755965Z",
     "iopub.status.busy": "2024-12-30T17:43:39.755746Z",
     "iopub.status.idle": "2024-12-30T17:43:39.759606Z",
     "shell.execute_reply": "2024-12-30T17:43:39.759153Z",
     "shell.execute_reply.started": "2024-12-30T17:43:39.755948Z"
    }
   },
   "outputs": [],
   "source": [
    "from IPython.display import Markdown, display"
   ]
  },
  {
   "cell_type": "code",
   "execution_count": 15,
   "id": "5af8d767-f5ca-4ac2-9ba2-da8503e8d568",
   "metadata": {
    "execution": {
     "iopub.execute_input": "2024-12-30T17:43:40.572225Z",
     "iopub.status.busy": "2024-12-30T17:43:40.571948Z",
     "iopub.status.idle": "2024-12-30T17:43:40.575266Z",
     "shell.execute_reply": "2024-12-30T17:43:40.574223Z",
     "shell.execute_reply.started": "2024-12-30T17:43:40.572208Z"
    }
   },
   "outputs": [],
   "source": [
    "def hex_to_dec(h):\n",
    "    return int(h, 16)"
   ]
  },
  {
   "cell_type": "code",
   "execution_count": 22,
   "id": "94799c47-30cf-4c31-9205-eaf0c800ffd5",
   "metadata": {
    "execution": {
     "iopub.execute_input": "2024-12-30T17:49:54.463954Z",
     "iopub.status.busy": "2024-12-30T17:49:54.463714Z",
     "iopub.status.idle": "2024-12-30T17:49:54.466621Z",
     "shell.execute_reply": "2024-12-30T17:49:54.466079Z",
     "shell.execute_reply.started": "2024-12-30T17:49:54.463938Z"
    }
   },
   "outputs": [],
   "source": [
    "def hex2(d):\n",
    "    padding=4\n",
    "    return f\"{d:#0{padding}x}\""
   ]
  },
  {
   "cell_type": "code",
   "execution_count": 24,
   "id": "fa8238b1-4293-4743-95c8-66a55f609fd4",
   "metadata": {
    "execution": {
     "iopub.execute_input": "2024-12-30T17:50:19.413965Z",
     "iopub.status.busy": "2024-12-30T17:50:19.413555Z",
     "iopub.status.idle": "2024-12-30T17:50:19.417074Z",
     "shell.execute_reply": "2024-12-30T17:50:19.416641Z",
     "shell.execute_reply.started": "2024-12-30T17:50:19.413949Z"
    }
   },
   "outputs": [
    {
     "data": {
      "text/plain": [
       "('0x002a', '0x2a')"
      ]
     },
     "execution_count": 24,
     "metadata": {},
     "output_type": "execute_result"
    }
   ],
   "source": [
    "value = 42\n",
    "padding = 6\n",
    "f\"{value:#0{padding}x}\",  hex2(42)"
   ]
  },
  {
   "cell_type": "code",
   "execution_count": 16,
   "id": "369e1876-3fb2-407d-abdd-160572c72527",
   "metadata": {
    "execution": {
     "iopub.execute_input": "2024-12-30T17:43:41.016187Z",
     "iopub.status.busy": "2024-12-30T17:43:41.015991Z",
     "iopub.status.idle": "2024-12-30T17:43:41.018899Z",
     "shell.execute_reply": "2024-12-30T17:43:41.018411Z",
     "shell.execute_reply.started": "2024-12-30T17:43:41.016173Z"
    }
   },
   "outputs": [],
   "source": [
    "def to_hex6(t):\n",
    "    new_t = (t[0], t[1].replace(\"0x\", \"\"), t[2].replace(\"0x\", \"\"))\n",
    "    return \"\".join(new_t)"
   ]
  },
  {
   "cell_type": "code",
   "execution_count": 17,
   "id": "ee1f09da-33ca-4376-9db1-c976314c7b9a",
   "metadata": {
    "execution": {
     "iopub.execute_input": "2024-12-30T17:43:41.656015Z",
     "iopub.status.busy": "2024-12-30T17:43:41.655816Z",
     "iopub.status.idle": "2024-12-30T17:43:41.661871Z",
     "shell.execute_reply": "2024-12-30T17:43:41.661319Z",
     "shell.execute_reply.started": "2024-12-30T17:43:41.656000Z"
    }
   },
   "outputs": [],
   "source": [
    "def rgb_to_hsv(r, g, b):\n",
    "    if type(r) == str:\n",
    "        r = int(r, 16)\n",
    "    if type(g) == str:\n",
    "        g = int(g, 16)\n",
    "    if type(b) == str:\n",
    "        b = int(b, 16)\n",
    "    r /= 255\n",
    "    g /= 255\n",
    "    b /= 255\n",
    "    maxc = max(r, g, b)\n",
    "    minc = min(r, g, b)\n",
    "    v = maxc\n",
    "    if minc == maxc:\n",
    "        return 0.0, 0.0, v * 255\n",
    "    s = (maxc - minc) / maxc\n",
    "    rc = (maxc - r) / (maxc - minc)\n",
    "    gc = (maxc - g) / (maxc - minc)\n",
    "    bc = (maxc - b) / (maxc - minc)\n",
    "    if r == maxc:\n",
    "        h = 0.0 + bc - gc\n",
    "    elif g == maxc:\n",
    "        h = 2.0 + rc - bc\n",
    "    else:\n",
    "        h = 4.0 + gc - rc\n",
    "    h = (h / 6.0) % 1.0\n",
    "    return round(h * 255, 0), round(s * 255, 0), round(v * 255, 0)\n",
    "    # return h * 360, s * 100, v * 100"
   ]
  },
  {
   "cell_type": "code",
   "execution_count": 18,
   "id": "496024fc-e2db-4f23-924c-ee9cf65b87da",
   "metadata": {
    "execution": {
     "iopub.execute_input": "2024-12-30T17:43:42.159337Z",
     "iopub.status.busy": "2024-12-30T17:43:42.159130Z",
     "iopub.status.idle": "2024-12-30T17:43:42.164460Z",
     "shell.execute_reply": "2024-12-30T17:43:42.163857Z",
     "shell.execute_reply.started": "2024-12-30T17:43:42.159322Z"
    }
   },
   "outputs": [],
   "source": [
    "def hsv_to_rgb(h, s, v):\n",
    "\n",
    "    def _hsv_to_rgb(h: float, s: float, v: float) -> tuple:\n",
    "        if s:\n",
    "            if h == 1.0:\n",
    "                h = 0.0\n",
    "            i = int(h * 6.0)\n",
    "            f = h * 6.0 - i\n",
    "\n",
    "            w = v * (1.0 - s)\n",
    "            q = v * (1.0 - s * f)\n",
    "            t = v * (1.0 - s * (1.0 - f))\n",
    "\n",
    "            if i == 0:\n",
    "                return (v, t, w)\n",
    "            if i == 1:\n",
    "                return (q, v, w)\n",
    "            if i == 2:\n",
    "                return (w, v, t)\n",
    "            if i == 3:\n",
    "                return (w, q, v)\n",
    "            if i == 4:\n",
    "                return (t, w, v)\n",
    "            if i == 5:\n",
    "                return (v, w, q)\n",
    "        else:\n",
    "            return (v, v, v)\n",
    "\n",
    "    if type(h) == str:\n",
    "        h = int(h, 16)\n",
    "    if type(s) == str:\n",
    "        s = int(s, 16)\n",
    "    if type(v) == str:\n",
    "        v = int(v, 16)\n",
    "    h /= 255\n",
    "    s /= 255\n",
    "    v /= 255\n",
    "    return tuple(hex2(int(255 * i)) for i in _hsv_to_rgb(h, s, v))"
   ]
  },
  {
   "cell_type": "code",
   "execution_count": 19,
   "id": "9cb69801-5ccd-4e7d-b12d-1dcf25b1a8a4",
   "metadata": {
    "execution": {
     "iopub.execute_input": "2024-12-30T17:43:42.911681Z",
     "iopub.status.busy": "2024-12-30T17:43:42.911465Z",
     "iopub.status.idle": "2024-12-30T17:43:42.915410Z",
     "shell.execute_reply": "2024-12-30T17:43:42.914754Z",
     "shell.execute_reply.started": "2024-12-30T17:43:42.911667Z"
    }
   },
   "outputs": [
    {
     "data": {
      "text/plain": [
       "(23.0, 227.0, 230.0)"
      ]
     },
     "execution_count": 19,
     "metadata": {},
     "output_type": "execute_result"
    }
   ],
   "source": [
    "rgb_to_hsv(\"e6\", \"87\", \"19\")"
   ]
  },
  {
   "cell_type": "code",
   "execution_count": 25,
   "id": "0aae748f-7848-4605-ae36-a85cb5d8cb16",
   "metadata": {
    "execution": {
     "iopub.execute_input": "2024-12-30T17:50:32.513562Z",
     "iopub.status.busy": "2024-12-30T17:50:32.513361Z",
     "iopub.status.idle": "2024-12-30T17:50:32.516711Z",
     "shell.execute_reply": "2024-12-30T17:50:32.516139Z",
     "shell.execute_reply.started": "2024-12-30T17:50:32.513549Z"
    }
   },
   "outputs": [
    {
     "data": {
      "text/plain": [
       "'0xa3ffa3'"
      ]
     },
     "execution_count": 25,
     "metadata": {},
     "output_type": "execute_result"
    }
   ],
   "source": [
    "to_hex6(hsv_to_rgb(85, 92, 255))"
   ]
  },
  {
   "cell_type": "code",
   "execution_count": 112,
   "id": "92d61673-5bb9-40fc-a736-637bdfa66b97",
   "metadata": {
    "execution": {
     "iopub.execute_input": "2024-12-28T17:45:12.747881Z",
     "iopub.status.busy": "2024-12-28T17:45:12.747675Z",
     "iopub.status.idle": "2024-12-28T17:45:12.750487Z",
     "shell.execute_reply": "2024-12-28T17:45:12.749993Z",
     "shell.execute_reply.started": "2024-12-28T17:45:12.747867Z"
    }
   },
   "outputs": [],
   "source": [
    "def make_rgb(h, s, v):\n",
    "    return to_hex6(hsv_to_rgb(h, s, v)).replace(\"0x\", \"#\")"
   ]
  },
  {
   "cell_type": "code",
   "execution_count": 152,
   "id": "0f79d858-4dfd-4429-9788-52b01ee5b386",
   "metadata": {
    "execution": {
     "iopub.execute_input": "2024-12-28T21:31:13.644265Z",
     "iopub.status.busy": "2024-12-28T21:31:13.644065Z",
     "iopub.status.idle": "2024-12-28T21:31:13.648577Z",
     "shell.execute_reply": "2024-12-28T21:31:13.648100Z",
     "shell.execute_reply.started": "2024-12-28T21:31:13.644251Z"
    }
   },
   "outputs": [
    {
     "data": {
      "text/markdown": [
       "<span style=\"font-family: monospace\">#e68819 <span style=\"color: #e68819\">████████</span></span><br><span style=\"font-family: monospace\">#3267ff <span style=\"color: #3267ff\">████████</span></span><br><span style=\"font-family: monospace\">#9732ff <span style=\"color: #9732ff\">████████</span></span><br><span style=\"font-family: monospace\">#33cc33 <span style=\"color: #33cc33\">████████</span></span><br><span style=\"font-family: monospace\">#00fcff <span style=\"color: #00fcff\">████████</span></span><br><span style=\"font-family: monospace\">#ff2300 <span style=\"color: #ff2300\">████████</span></span><br><span style=\"font-family: monospace\">#3fff82 <span style=\"color: #3fff82\">████████</span></span><br><span style=\"font-family: monospace\">#ffdd3f <span style=\"color: #ffdd3f\">████████</span></span><br><span style=\"font-family: monospace\">#fffc00 <span style=\"color: #fffc00\">████████</span></span>"
      ],
      "text/plain": [
       "<IPython.core.display.Markdown object>"
      ]
     },
     "metadata": {},
     "output_type": "display_data"
    }
   ],
   "source": [
    "colors = [\n",
    "    make_rgb(23, 227, 230), # caps lock\n",
    "    make_rgb(159, 204, 255), # nav 1\n",
    "    make_rgb(191, 204, 255), # nav 2\n",
    "    make_rgb(85, 191, 204), # adj\n",
    "    make_rgb(128, 255, 255), # num\n",
    "    make_rgb(6, 255, 255), # mouse\n",
    "    make_rgb(100, 192, 255), # windows\n",
    "    make_rgb(35, 192, 255),  # linux\n",
    "    make_rgb(42, 255, 255)\n",
    "]\n",
    "# colors = ['#018700', '#00acc6', '#e6a500']\n",
    "\n",
    "display(\n",
    "    Markdown(\n",
    "        \"<br>\".join(\n",
    "            f'<span style=\"font-family: monospace\">{color} <span style=\"color: {color}\">████████</span></span>'\n",
    "            for color in colors\n",
    "        )\n",
    "    )\n",
    ")"
   ]
  },
  {
   "cell_type": "code",
   "execution_count": 143,
   "id": "eea3c2b7-6e27-4be0-827b-0ded80b7598f",
   "metadata": {
    "execution": {
     "iopub.execute_input": "2024-12-28T19:05:31.958414Z",
     "iopub.status.busy": "2024-12-28T19:05:31.958198Z",
     "iopub.status.idle": "2024-12-28T19:05:31.961760Z",
     "shell.execute_reply": "2024-12-28T19:05:31.961247Z",
     "shell.execute_reply.started": "2024-12-28T19:05:31.958397Z"
    }
   },
   "outputs": [
    {
     "data": {
      "text/plain": [
       "163"
      ]
     },
     "execution_count": 143,
     "metadata": {},
     "output_type": "execute_result"
    }
   ],
   "source": [
    "int(\"a3\",16)"
   ]
  },
  {
   "cell_type": "code",
   "execution_count": 12,
   "id": "07a73177-ecce-497a-8bb1-a80b5ce912a3",
   "metadata": {
    "execution": {
     "iopub.execute_input": "2024-12-29T10:52:01.122414Z",
     "iopub.status.busy": "2024-12-29T10:52:01.122202Z",
     "iopub.status.idle": "2024-12-29T10:52:01.126794Z",
     "shell.execute_reply": "2024-12-29T10:52:01.126325Z",
     "shell.execute_reply.started": "2024-12-29T10:52:01.122399Z"
    }
   },
   "outputs": [
    {
     "data": {
      "text/markdown": [
       "<span style=\"font-family: monospace\"> #99F5FF <span style=\"color: #99F5FF\">████████</span> RGB_AZURE</span><br><span style=\"font-family: monospace\"> #000000 <span style=\"color: #000000\">████████</span> RGB_BLACK</span><br><span style=\"font-family: monospace\"> #0000FF <span style=\"color: #0000FF\">████████</span> RGB_BLUE</span><br><span style=\"font-family: monospace\"> #80FF00 <span style=\"color: #80FF00\">████████</span> RGB_CHARTREUSE</span><br><span style=\"font-family: monospace\"> #FF7C4D <span style=\"color: #FF7C4D\">████████</span> RGB_CORAL</span><br><span style=\"font-family: monospace\"> #00FFFF <span style=\"color: #00FFFF\">████████</span> RGB_CYAN</span><br><span style=\"font-family: monospace\"> #FFD900 <span style=\"color: #FFD900\">████████</span> RGB_GOLD</span><br><span style=\"font-family: monospace\"> #D9A521 <span style=\"color: #D9A521\">████████</span> RGB_GOLDENROD</span><br><span style=\"font-family: monospace\"> #00FF00 <span style=\"color: #00FF00\">████████</span> RGB_GREEN</span><br><span style=\"font-family: monospace\"> #FF00FF <span style=\"color: #FF00FF\">████████</span> RGB_MAGENTA</span><br><span style=\"font-family: monospace\"> #FF8000 <span style=\"color: #FF8000\">████████</span> RGB_ORANGE</span><br><span style=\"font-family: monospace\"> #FF80BF <span style=\"color: #FF80BF\">████████</span> RGB_PINK</span><br><span style=\"font-family: monospace\"> #7A00FF <span style=\"color: #7A00FF\">████████</span> RGB_PURPLE</span><br><span style=\"font-family: monospace\"> #FF0000 <span style=\"color: #FF0000\">████████</span> RGB_RED</span><br><span style=\"font-family: monospace\"> #00FF80 <span style=\"color: #00FF80\">████████</span> RGB_SPRINGGREEN</span><br><span style=\"font-family: monospace\"> #008080 <span style=\"color: #008080\">████████</span> RGB_TEAL</span><br><span style=\"font-family: monospace\"> #476E6A <span style=\"color: #476E6A\">████████</span> RGB_TURQUOISE</span><br><span style=\"font-family: monospace\"> #FFFFFF <span style=\"color: #FFFFFF\">████████</span> RGB_WHITE</span><br><span style=\"font-family: monospace\"> #FFFF00 <span style=\"color: #FFFF00\">████████</span> RGB_YELLOW</span>"
      ],
      "text/plain": [
       "<IPython.core.display.Markdown object>"
      ]
     },
     "metadata": {},
     "output_type": "display_data"
    }
   ],
   "source": [
    "colors = {\n",
    "\"RGB_AZURE\":       \"#99F5FF\",\n",
    "\"RGB_BLACK\":       \"#000000\",\n",
    "\"RGB_BLUE\":        \"#0000FF\",\n",
    "\"RGB_CHARTREUSE\":  \"#80FF00\",\n",
    "\"RGB_CORAL\":       \"#FF7C4D\",\n",
    "\"RGB_CYAN\":        \"#00FFFF\",\n",
    "\"RGB_GOLD\":        \"#FFD900\",\n",
    "\"RGB_GOLDENROD\":   \"#D9A521\",\n",
    "\"RGB_GREEN\":       \"#00FF00\",\n",
    "\"RGB_MAGENTA\":     \"#FF00FF\",\n",
    "\"RGB_ORANGE\":      \"#FF8000\",\n",
    "\"RGB_PINK\":        \"#FF80BF\",\n",
    "\"RGB_PURPLE\":      \"#7A00FF\",\n",
    "\"RGB_RED\":         \"#FF0000\",\n",
    "\"RGB_SPRINGGREEN\": \"#00FF80\",\n",
    "\"RGB_TEAL\":        \"#008080\",\n",
    "\"RGB_TURQUOISE\":   \"#476E6A\",\n",
    "\"RGB_WHITE\":       \"#FFFFFF\",\n",
    "\"RGB_YELLOW\":      \"#FFFF00\"\n",
    "}\n",
    "# colors = ['#018700', '#00acc6', '#e6a500']\n",
    "\n",
    "display(\n",
    "    Markdown(\n",
    "        \"<br>\".join(\n",
    "            f'<span style=\"font-family: monospace\"> {color} <span style=\"color: {color}\">████████</span> {color_name}</span>'\n",
    "            for color_name, color in colors.items()\n",
    "        )\n",
    "    )\n",
    ")"
   ]
  },
  {
   "cell_type": "code",
   "execution_count": 4,
   "id": "ae78c00f-4c55-4fcd-bc50-f105978fe350",
   "metadata": {
    "execution": {
     "iopub.execute_input": "2024-12-29T10:44:13.974572Z",
     "iopub.status.busy": "2024-12-29T10:44:13.974357Z",
     "iopub.status.idle": "2024-12-29T10:44:13.979310Z",
     "shell.execute_reply": "2024-12-29T10:44:13.978774Z",
     "shell.execute_reply.started": "2024-12-29T10:44:13.974554Z"
    }
   },
   "outputs": [
    {
     "data": {
      "text/plain": [
       "'#FFFF00'"
      ]
     },
     "execution_count": 4,
     "metadata": {},
     "output_type": "execute_result"
    }
   ],
   "source": [
    "colors[\"RGB_YELLOW\""
   ]
  },
  {
   "cell_type": "code",
   "execution_count": 30,
   "id": "180eee0d-b4f4-45c6-bf38-d10103535f61",
   "metadata": {
    "execution": {
     "iopub.execute_input": "2024-12-30T18:32:22.793902Z",
     "iopub.status.busy": "2024-12-30T18:32:22.793692Z",
     "iopub.status.idle": "2024-12-30T18:32:22.796787Z",
     "shell.execute_reply": "2024-12-30T18:32:22.796149Z",
     "shell.execute_reply.started": "2024-12-30T18:32:22.793886Z"
    }
   },
   "outputs": [],
   "source": [
    "def hsv_to_255(h, s, v):\n",
    "    return(round(h/360 * 255,0), round(s/100 * 255,0), round(v/100 * 255,0))"
   ]
  },
  {
   "cell_type": "code",
   "execution_count": 35,
   "id": "afbc2106-c1e1-4ddf-8b92-01f627f01e1a",
   "metadata": {
    "execution": {
     "iopub.execute_input": "2024-12-30T18:35:47.484596Z",
     "iopub.status.busy": "2024-12-30T18:35:47.484384Z",
     "iopub.status.idle": "2024-12-30T18:35:47.488007Z",
     "shell.execute_reply": "2024-12-30T18:35:47.487546Z",
     "shell.execute_reply.started": "2024-12-30T18:35:47.484580Z"
    }
   },
   "outputs": [
    {
     "data": {
      "text/plain": [
       "(191.0, 204.0, 255.0)"
      ]
     },
     "execution_count": 35,
     "metadata": {},
     "output_type": "execute_result"
    }
   ],
   "source": [
    "hsv_to_255(270, 80, 100)"
   ]
  },
  {
   "cell_type": "code",
   "execution_count": null,
   "id": "2ac5a0c3-740f-46e6-848f-5408f7469a0e",
   "metadata": {},
   "outputs": [],
   "source": []
  }
 ],
 "metadata": {
  "kernelspec": {
   "display_name": "Python 3 (ipykernel)",
   "language": "python",
   "name": "python3"
  },
  "language_info": {
   "codemirror_mode": {
    "name": "ipython",
    "version": 3
   },
   "file_extension": ".py",
   "mimetype": "text/x-python",
   "name": "python",
   "nbconvert_exporter": "python",
   "pygments_lexer": "ipython3",
   "version": "3.11.10"
  }
 },
 "nbformat": 4,
 "nbformat_minor": 5
}
