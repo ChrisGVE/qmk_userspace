{
 "cells": [
  {
   "cell_type": "code",
   "execution_count": 40,
   "id": "03a047db-4ba9-4d99-b13c-da8026b6ba92",
   "metadata": {
    "execution": {
     "iopub.execute_input": "2024-12-28T16:13:28.473396Z",
     "iopub.status.busy": "2024-12-28T16:13:28.473044Z",
     "iopub.status.idle": "2024-12-28T16:13:28.477883Z",
     "shell.execute_reply": "2024-12-28T16:13:28.476762Z",
     "shell.execute_reply.started": "2024-12-28T16:13:28.473375Z"
    }
   },
   "outputs": [],
   "source": [
    "from IPython.display import Markdown, display"
   ]
  },
  {
   "cell_type": "code",
   "execution_count": 10,
   "id": "5af8d767-f5ca-4ac2-9ba2-da8503e8d568",
   "metadata": {
    "execution": {
     "iopub.execute_input": "2024-12-28T15:43:33.107494Z",
     "iopub.status.busy": "2024-12-28T15:43:33.107289Z",
     "iopub.status.idle": "2024-12-28T15:43:33.110178Z",
     "shell.execute_reply": "2024-12-28T15:43:33.109649Z",
     "shell.execute_reply.started": "2024-12-28T15:43:33.107480Z"
    }
   },
   "outputs": [],
   "source": [
    "def hex_to_dec(h):\n",
    "    return int(h, 16)"
   ]
  },
  {
   "cell_type": "code",
   "execution_count": 68,
   "id": "369e1876-3fb2-407d-abdd-160572c72527",
   "metadata": {
    "execution": {
     "iopub.execute_input": "2024-12-28T16:25:15.278909Z",
     "iopub.status.busy": "2024-12-28T16:25:15.278697Z",
     "iopub.status.idle": "2024-12-28T16:25:15.281611Z",
     "shell.execute_reply": "2024-12-28T16:25:15.281131Z",
     "shell.execute_reply.started": "2024-12-28T16:25:15.278893Z"
    }
   },
   "outputs": [],
   "source": [
    "def to_hex6(t):\n",
    "    new_t = (t[0], t[1].replace(\"0x\", \"\"), t[2].replace(\"0x\", \"\"))\n",
    "    return \"\".join(new_t)"
   ]
  },
  {
   "cell_type": "code",
   "execution_count": 131,
   "id": "ee1f09da-33ca-4376-9db1-c976314c7b9a",
   "metadata": {
    "execution": {
     "iopub.execute_input": "2024-12-28T18:24:17.700404Z",
     "iopub.status.busy": "2024-12-28T18:24:17.700204Z",
     "iopub.status.idle": "2024-12-28T18:24:17.705081Z",
     "shell.execute_reply": "2024-12-28T18:24:17.704551Z",
     "shell.execute_reply.started": "2024-12-28T18:24:17.700389Z"
    }
   },
   "outputs": [],
   "source": [
    "def rgb_to_hsv(r, g, b):\n",
    "    if type(r) == str:\n",
    "        r = int(r, 16)\n",
    "    if type(g) == str:\n",
    "        g = int(g, 16)\n",
    "    if type(b) == str:\n",
    "        b = int(b, 16)\n",
    "    r /= 255\n",
    "    g /= 255\n",
    "    b /= 255\n",
    "    maxc = max(r, g, b)\n",
    "    minc = min(r, g, b)\n",
    "    v = maxc\n",
    "    if minc == maxc:\n",
    "        return 0.0, 0.0, v * 255\n",
    "    s = (maxc - minc) / maxc\n",
    "    rc = (maxc - r) / (maxc - minc)\n",
    "    gc = (maxc - g) / (maxc - minc)\n",
    "    bc = (maxc - b) / (maxc - minc)\n",
    "    if r == maxc:\n",
    "        h = 0.0 + bc - gc\n",
    "    elif g == maxc:\n",
    "        h = 2.0 + rc - bc\n",
    "    else:\n",
    "        h = 4.0 + gc - rc\n",
    "    h = (h / 6.0) % 1.0\n",
    "    return round(h * 255, 0), round(s * 255, 0), round(v * 255, 0)\n",
    "    # return h * 360, s * 100, v * 100"
   ]
  },
  {
   "cell_type": "code",
   "execution_count": 132,
   "id": "496024fc-e2db-4f23-924c-ee9cf65b87da",
   "metadata": {
    "execution": {
     "iopub.execute_input": "2024-12-28T18:24:19.551255Z",
     "iopub.status.busy": "2024-12-28T18:24:19.551025Z",
     "iopub.status.idle": "2024-12-28T18:24:19.557871Z",
     "shell.execute_reply": "2024-12-28T18:24:19.556880Z",
     "shell.execute_reply.started": "2024-12-28T18:24:19.551236Z"
    }
   },
   "outputs": [],
   "source": [
    "def hsv_to_rgb(h, s, v):\n",
    "\n",
    "    def _hsv_to_rgb(h: float, s: float, v: float) -> tuple:\n",
    "        if s:\n",
    "            if h == 1.0:\n",
    "                h = 0.0\n",
    "            i = int(h * 6.0)\n",
    "            f = h * 6.0 - i\n",
    "\n",
    "            w = v * (1.0 - s)\n",
    "            q = v * (1.0 - s * f)\n",
    "            t = v * (1.0 - s * (1.0 - f))\n",
    "\n",
    "            if i == 0:\n",
    "                return (v, t, w)\n",
    "            if i == 1:\n",
    "                return (q, v, w)\n",
    "            if i == 2:\n",
    "                return (w, v, t)\n",
    "            if i == 3:\n",
    "                return (w, q, v)\n",
    "            if i == 4:\n",
    "                return (t, w, v)\n",
    "            if i == 5:\n",
    "                return (v, w, q)\n",
    "        else:\n",
    "            return (v, v, v)\n",
    "\n",
    "    if type(h) == str:\n",
    "        h = int(h, 16)\n",
    "    if type(s) == str:\n",
    "        s = int(s, 16)\n",
    "    if type(v) == str:\n",
    "        v = int(v, 16)\n",
    "    h /= 255\n",
    "    s /= 255\n",
    "    v /= 255\n",
    "    return tuple(hex2(int(255 * i)) for i in _hsv_to_rgb(h, s, v))"
   ]
  },
  {
   "cell_type": "code",
   "execution_count": 139,
   "id": "9cb69801-5ccd-4e7d-b12d-1dcf25b1a8a4",
   "metadata": {
    "execution": {
     "iopub.execute_input": "2024-12-28T18:27:21.424691Z",
     "iopub.status.busy": "2024-12-28T18:27:21.424337Z",
     "iopub.status.idle": "2024-12-28T18:27:21.427790Z",
     "shell.execute_reply": "2024-12-28T18:27:21.427298Z",
     "shell.execute_reply.started": "2024-12-28T18:27:21.424675Z"
    }
   },
   "outputs": [
    {
     "data": {
      "text/plain": [
       "(6.0, 255.0, 255.0)"
      ]
     },
     "execution_count": 139,
     "metadata": {},
     "output_type": "execute_result"
    }
   ],
   "source": [
    "rgb_to_hsv(\"ff\", \"26\", \"00\")"
   ]
  },
  {
   "cell_type": "code",
   "execution_count": 142,
   "id": "0aae748f-7848-4605-ae36-a85cb5d8cb16",
   "metadata": {
    "execution": {
     "iopub.execute_input": "2024-12-28T18:29:37.987008Z",
     "iopub.status.busy": "2024-12-28T18:29:37.986791Z",
     "iopub.status.idle": "2024-12-28T18:29:37.990064Z",
     "shell.execute_reply": "2024-12-28T18:29:37.989635Z",
     "shell.execute_reply.started": "2024-12-28T18:29:37.986992Z"
    }
   },
   "outputs": [
    {
     "data": {
      "text/plain": [
       "'0xa3ffa3'"
      ]
     },
     "execution_count": 142,
     "metadata": {},
     "output_type": "execute_result"
    }
   ],
   "source": [
    "to_hex6(hsv_to_rgb(85, 92, 255))"
   ]
  },
  {
   "cell_type": "code",
   "execution_count": 112,
   "id": "92d61673-5bb9-40fc-a736-637bdfa66b97",
   "metadata": {
    "execution": {
     "iopub.execute_input": "2024-12-28T17:45:12.747881Z",
     "iopub.status.busy": "2024-12-28T17:45:12.747675Z",
     "iopub.status.idle": "2024-12-28T17:45:12.750487Z",
     "shell.execute_reply": "2024-12-28T17:45:12.749993Z",
     "shell.execute_reply.started": "2024-12-28T17:45:12.747867Z"
    }
   },
   "outputs": [],
   "source": [
    "def make_rgb(h, s, v):\n",
    "    return to_hex6(hsv_to_rgb(h, s, v)).replace(\"0x\", \"#\")"
   ]
  },
  {
   "cell_type": "code",
   "execution_count": 130,
   "id": "0f79d858-4dfd-4429-9788-52b01ee5b386",
   "metadata": {
    "execution": {
     "iopub.execute_input": "2024-12-28T17:50:52.969330Z",
     "iopub.status.busy": "2024-12-28T17:50:52.969130Z",
     "iopub.status.idle": "2024-12-28T17:50:52.973443Z",
     "shell.execute_reply": "2024-12-28T17:50:52.972967Z",
     "shell.execute_reply.started": "2024-12-28T17:50:52.969316Z"
    }
   },
   "outputs": [
    {
     "data": {
      "text/markdown": [
       "<span style=\"font-family: monospace\">#e68819 <span style=\"color: #e68819\">████████</span></span><br><span style=\"font-family: monospace\">#3267ff <span style=\"color: #3267ff\">████████</span></span><br><span style=\"font-family: monospace\">#9732ff <span style=\"color: #9732ff\">████████</span></span><br><span style=\"font-family: monospace\">#33cc33 <span style=\"color: #33cc33\">████████</span></span><br><span style=\"font-family: monospace\">#00fcff <span style=\"color: #00fcff\">████████</span></span><br><span style=\"font-family: monospace\">#ff2300 <span style=\"color: #ff2300\">████████</span></span><br><span style=\"font-family: monospace\">#a3ffa3 <span style=\"color: #a3ffa3\">████████</span></span><br><span style=\"font-family: monospace\">#ffeea3 <span style=\"color: #ffeea3\">████████</span></span>"
      ],
      "text/plain": [
       "<IPython.core.display.Markdown object>"
      ]
     },
     "metadata": {},
     "output_type": "display_data"
    }
   ],
   "source": [
    "colors = [\n",
    "    make_rgb(23, 227, 230), # caps lock\n",
    "    make_rgb(159, 204, 255), # nav 1\n",
    "    make_rgb(191, 204, 255), # nav 2\n",
    "    make_rgb(85, 191, 204), # adj\n",
    "    make_rgb(128, 255, 255), # num\n",
    "    make_rgb(6, 255, 255), # mouse\n",
    "    make_rgb(85, 92, 255), # windows\n",
    "    make_rgb(35, 92, 255),  # linux\n",
    "]\n",
    "# colors = ['#018700', '#00acc6', '#e6a500']\n",
    "\n",
    "display(\n",
    "    Markdown(\n",
    "        \"<br>\".join(\n",
    "            f'<span style=\"font-family: monospace\">{color} <span style=\"color: {color}\">████████</span></span>'\n",
    "            for color in colors\n",
    "        )\n",
    "    )\n",
    ")"
   ]
  },
  {
   "cell_type": "code",
   "execution_count": 143,
   "id": "eea3c2b7-6e27-4be0-827b-0ded80b7598f",
   "metadata": {
    "execution": {
     "iopub.execute_input": "2024-12-28T19:05:31.958414Z",
     "iopub.status.busy": "2024-12-28T19:05:31.958198Z",
     "iopub.status.idle": "2024-12-28T19:05:31.961760Z",
     "shell.execute_reply": "2024-12-28T19:05:31.961247Z",
     "shell.execute_reply.started": "2024-12-28T19:05:31.958397Z"
    }
   },
   "outputs": [
    {
     "data": {
      "text/plain": [
       "163"
      ]
     },
     "execution_count": 143,
     "metadata": {},
     "output_type": "execute_result"
    }
   ],
   "source": [
    "int(\"a3\",16)"
   ]
  },
  {
   "cell_type": "code",
   "execution_count": null,
   "id": "07a73177-ecce-497a-8bb1-a80b5ce912a3",
   "metadata": {},
   "outputs": [],
   "source": []
  }
 ],
 "metadata": {
  "kernelspec": {
   "display_name": "Python 3 (ipykernel)",
   "language": "python",
   "name": "python3"
  },
  "language_info": {
   "codemirror_mode": {
    "name": "ipython",
    "version": 3
   },
   "file_extension": ".py",
   "mimetype": "text/x-python",
   "name": "python",
   "nbconvert_exporter": "python",
   "pygments_lexer": "ipython3",
   "version": "3.11.10"
  }
 },
 "nbformat": 4,
 "nbformat_minor": 5
}
